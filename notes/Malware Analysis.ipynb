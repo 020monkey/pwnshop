{
 "cells": [
  {
   "cell_type": "markdown",
   "metadata": {},
   "source": [
    "# Statis Analysis\n",
    "\n",
    "- file command  \n",
    "- check for hash\n",
    "- - https://www.team-cymru.com/mhr.html (this can be run using howis or dns queries)\n",
    "- - VirusTotal\n",
    "- strings command  \n",
    "- listing symbols with nm command \n",
    "- - symbols are functions defined inside the binary or exported or imported to/from somewhere else. Only present if the file hasn't been stripped.  \n",
    "- listing shared libraries with ldd command  \n",
    "- Big picture with readelf  \n",
    "- disassembly with objdump  \n",
    "\n",
    "== lookup how to do all this stuff using radare2?  \n",
    "\n",
    "\n",
    "\n",
    "# Dynamic Analysis\n",
    "\n",
    "Use an isolated environment (VM)  \n",
    "- strace trace system calls\n",
    "- ltrace trace library calls\n",
    "- reverse engineering:\n",
    "- - gdb, edb, radare2, IDA Pro  \n",
    "\n",
    "# Obfuscation\n",
    "\n",
    "Packer: Takes an executable an makes it smaller  \n",
    "It's used a lot for obfuscation  \n",
    "\n",
    "Self-modifying code  \n",
    "\n",
    "Code that detects virtual machines and/or debuggers  \n",
    "\n",
    "\n",
    "\n",
    "\n"
   ]
  }
 ],
 "metadata": {
  "kernelspec": {
   "display_name": "Python 3",
   "language": "python",
   "name": "python3"
  },
  "language_info": {
   "codemirror_mode": {
    "name": "ipython",
    "version": 3
   },
   "file_extension": ".py",
   "mimetype": "text/x-python",
   "name": "python",
   "nbconvert_exporter": "python",
   "pygments_lexer": "ipython3",
   "version": "3.6.7"
  }
 },
 "nbformat": 4,
 "nbformat_minor": 2
}
