{
 "cells": [
  {
   "cell_type": "markdown",
   "metadata": {},
   "source": [
    "# Sources\n",
    "\n",
    "Intel manuals volume 2 : Instruction set reference  \n",
    "https://software.intel.com/sites/default/files/managed/a4/60/325383-sdm-vol-2abcd.pdf\n",
    "\n",
    "GCC : use gcc inline assembly (is it posible to use this on golang?)  \n",
    "https://ibiblio.org/gferg/ldp/GCC-Inline-Assembly-HOWTO.html  \n",
    "\n",
    "GDB + gdb dashboard  \n",
    "https://github.com/cyrus-and/gdb-dashboard  \n",
    "\n",
    "Radare2  \n",
    "\n",
    "Nasm  \n",
    "\n",
    "Windows debuggers: Immunity, OllyDgb, x64Dbg  \n",
    "\n",
    "Generic fuzzers :  \n",
    "- Radamsa\n",
    "- AFL\n",
    "- Spike?\n",
    "\n",
    "Unix tracing program behaviour:  \n",
    "- Frida?\n",
    "- Dtrace?\n",
    "- ltrace & strace\n",
    "\n",
    "Packet Sniffer:\n",
    "- Wireshark\n",
    "- tcpdump\n",
    "\n",
    "Disassembler:\n",
    "- radare2\n",
    "- IDA pro\n",
    "\n",
    "Read papers to understand about different vulnerability types:  \n",
    "- Stack Overflow\n",
    "- - http://phrack.org/issues/49/14.html\n",
    "- - http://phrack.org/issues/55/15.html#article\n",
    "- Heap Overflow\n",
    "- - https://nilminus.wordpress.com/exploitation/heap-overflows/w00w00-on-heap-overflows/\n",
    "- - http://www.phrack.org/issues/57/9.html#article\n",
    "- - http://www.phrack.org/issues/57/8.html#article\n",
    "- Integer Overflow\n",
    "- - http://www.phrack.org/issues/60/10.html#article\n",
    "- Format String\n",
    "- - http://www.phrack.org/issues/59/7.html#article\n",
    "- Encoders and alternatives\n",
    "- - http://www.phrack.org/issues/57/15.html#article\n",
    "- - https://www.helpnetsecurity.com/dl/articles/unicodebo.pdf\n",
    "- Protection bypass\n",
    "- - http://www.phrack.org/issues/59/9.html#article\n",
    "- Tracing & Debugging\n",
    "- - http://www.phrack.org/issues/59/14.html#article\n",
    "- - http://www.phrack.org/issues/61/13.html#article"
   ]
  }
 ],
 "metadata": {
  "kernelspec": {
   "display_name": "Python 3",
   "language": "python",
   "name": "python3"
  },
  "language_info": {
   "codemirror_mode": {
    "name": "ipython",
    "version": 3
   },
   "file_extension": ".py",
   "mimetype": "text/x-python",
   "name": "python",
   "nbconvert_exporter": "python",
   "pygments_lexer": "ipython3",
   "version": "3.6.7"
  }
 },
 "nbformat": 4,
 "nbformat_minor": 2
}
