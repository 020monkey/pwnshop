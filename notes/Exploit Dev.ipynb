{
 "cells": [
  {
   "cell_type": "markdown",
   "metadata": {},
   "source": [
    "# Methods for jumping into code\n",
    "\n",
    "- jmp `Stack Address` / call `Stack Address`\n",
    "- pop ret (or pop*_N_ ret)\n",
    "- push ret\n",
    "- jmp [reg + offset]\n",
    "- ret\n",
    "- for small buffers : jump from smaller to bigger buffer/memorty area\n",
    "- SEH (structured exception handler)\n",
    "- (linux) jump to top of the stack\n",
    "- ret2libc / jump to DLL (local is better, then OS specific if no other option)\n",
    "- ROP (return oriented programming)\n",
    "\n",
    "\n",
    "https://www.corelan.be/index.php/2009/07/23/writing-buffer-overflow-exploits-a-quick-and-basic-tutorial-part-2/"
   ]
  },
  {
   "cell_type": "markdown",
   "metadata": {},
   "source": [
    "## Differences between windows and linux\n",
    "Linux has proceses => Windows has threads  \n",
    "The bof on windows always occur on a thread so you are obligated to use a type of ret2libc technique but using local DLLs instead  \n",
    "\n",
    "Heap overflows: On windows there's more likely to corrupt multiple heaps at once  \n",
    "\n",
    "Windows Debuggers:  \n",
    "- I tried x64Dbg and seemed fine \n",
    "- The shellcoder's handbook says OllyDbg is the greatest debugger ever created and Spike is the greatest fuzzer ever created  \n",
    "- Immunity?\n",
    "\n",
    "\n",
    "\n",
    "## Shellcode reliability\n",
    "### PIC (position independant code)\n",
    "Always take in consideration to write position independant code  \n",
    "Techniques like dynamic addresing are usefull for this:  \n",
    "```\n",
    " ; saving eip into ebx\n",
    " entrypoint:\n",
    "    call geteip\n",
    "    geteip:\n",
    "    pop ebx\n",
    "```  \n",
    "Try to save some space in the stack at the beggining of the shellcode so you avoid the shellcode to step into itself when performing stack operations. (you are running shellcode from the stack!!!)  \n",
    "In order to do this mover ESP up in the stack : ` subl esp, 0x100 `  \n",
    "\n",
    "You may need to align esp with the stack by doing something like : `and esp, 0xffffff00`  \n",
    "\n",
    "For heap corruptions you should avoid other proceses/threads accesing the same heap. To achieve this you can override the free() funtion to just return OK instead of actually freeing the memory.  \n",
    "\n",
    "Stage shellcode!!! Initial shellcode goes throught the exploitation process, then downloads more shellcode from an external source, then runs the second stage shellcode to execute privsec/custom payload/whatever  \n",
    "\n"
   ]
  }
 ],
 "metadata": {
  "kernelspec": {
   "display_name": "Python 3",
   "language": "python",
   "name": "python3"
  },
  "language_info": {
   "codemirror_mode": {
    "name": "ipython",
    "version": 3
   },
   "file_extension": ".py",
   "mimetype": "text/x-python",
   "name": "python",
   "nbconvert_exporter": "python",
   "pygments_lexer": "ipython3",
   "version": "3.6.7"
  }
 },
 "nbformat": 4,
 "nbformat_minor": 2
}
