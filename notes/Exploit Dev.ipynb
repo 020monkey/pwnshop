{
 "cells": [
  {
   "cell_type": "markdown",
   "metadata": {},
   "source": [
    "# Methods for jumping into code\n",
    "\n",
    "## jmp `Stack Address` / call `Stack Address`\n",
    "\n",
    "## pop ret (or pop*_N_ ret)\n",
    "\n",
    "## push ret\n",
    "\n",
    "## jmp [reg + offset]\n",
    "\n",
    "## ret\n",
    "\n",
    "## for small buffers : jump from smaller to bigger buffer/memorty area\n",
    "\n",
    "## SEH\n",
    "\n",
    "## (linux) jump to top of the stack\n",
    "\n",
    "https://www.corelan.be/index.php/2009/07/23/writing-buffer-overflow-exploits-a-quick-and-basic-tutorial-part-2/"
   ]
  },
  {
   "cell_type": "code",
   "execution_count": null,
   "metadata": {},
   "outputs": [],
   "source": []
  }
 ],
 "metadata": {
  "kernelspec": {
   "display_name": "Python 3",
   "language": "python",
   "name": "python3"
  },
  "language_info": {
   "codemirror_mode": {
    "name": "ipython",
    "version": 3
   },
   "file_extension": ".py",
   "mimetype": "text/x-python",
   "name": "python",
   "nbconvert_exporter": "python",
   "pygments_lexer": "ipython3",
   "version": "3.6.7"
  }
 },
 "nbformat": 4,
 "nbformat_minor": 2
}
