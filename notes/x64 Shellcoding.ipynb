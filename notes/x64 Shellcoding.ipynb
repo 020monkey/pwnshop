{
 "cells": [
  {
   "cell_type": "markdown",
   "metadata": {},
   "source": [
    "### Get cpu information on linux\n",
    "\n",
    "Commands  \n",
    "`lscpu`  \n",
    "`cat /proc/cpuinfo`  "
   ]
  },
  {
   "cell_type": "markdown",
   "metadata": {},
   "source": [
    "```\n",
    "Architecture:        x86_64\n",
    "CPU op-mode(s):      32-bit, 64-bit\n",
    "Byte Order:          Little Endian\n",
    "CPU(s):              8\n",
    "On-line CPU(s) list: 0-7\n",
    "Thread(s) per core:  2\n",
    "Core(s) per socket:  4\n",
    "Socket(s):           1\n",
    "NUMA node(s):        1\n",
    "Vendor ID:           GenuineIntel\n",
    "CPU family:          6\n",
    "Model:               94\n",
    "Model name:          Intel(R) Core(TM) i7-6700HQ CPU @ 2.60GHz\n",
    "Stepping:            3\n",
    "CPU MHz:             800.055\n",
    "CPU max MHz:         3500,0000\n",
    "CPU min MHz:         800,0000\n",
    "BogoMIPS:            5184.00\n",
    "Virtualization:      VT-x\n",
    "L1d cache:           32K\n",
    "L1i cache:           32K\n",
    "L2 cache:            256K\n",
    "L3 cache:            6144K\n",
    "NUMA node0 CPU(s):   0-7\n",
    "Flags:               fpu vme de pse tsc msr pae mce cx8 apic sep mtrr pge mca cmov pat pse36 clflush dts acpi mmx fxsr sse sse2 ss ht tm pbe syscall nx pdpe1gb rdtscp lm constant_tsc art arch_perfmon pebs bts rep_good nopl xtopology nonstop_tsc cpuid aperfmperf tsc_known_freq pni pclmulqdq dtes64 monitor ds_cpl vmx est tm2 ssse3 sdbg fma cx16 xtpr pdcm pcid sse4_1 sse4_2 x2apic movbe popcnt tsc_deadline_timer aes xsave avx f16c rdrand lahf_lm abm 3dnowprefetch cpuid_fault epb invpcid_single pti ssbd ibrs ibpb stibp tpr_shadow vnmi flexpriority ept vpid fsgsbase tsc_adjust bmi1 hle avx2 smep bmi2 erms invpcid rtm mpx rdseed adx smap clflushopt intel_pt xsaveopt xsavec xgetbv1 xsaves dtherm ida arat pln pts hwp hwp_notify hwp_act_window hwp_epp flush_l1d\n",
    "```"
   ]
  },
  {
   "cell_type": "markdown",
   "metadata": {
    "slideshow": {
     "slide_type": "notes"
    }
   },
   "source": [
    "Flags: indicates capabilities of the processor\n",
    "- mmx\n",
    "- lm (long mode) (probably indicates x64 support)"
   ]
  },
  {
   "cell_type": "markdown",
   "metadata": {},
   "source": [
    "### Registers"
   ]
  },
  {
   "cell_type": "markdown",
   "metadata": {},
   "source": [
    "Besides the x86 registers extended (EAX => RAX)  \n",
    "There are 7 brand new register on x64 archs: R8 to R15  \n",
    "They are divided like:  \n",
    "r8 (64) => r8d (lower 32) => r8w (lower 16) => r8b (lower 8)    \n",
    "r8  = full qword reg  \n",
    "r8d = lower dword  \n",
    "r8w = lower word    \n",
    "r8b = lower byte     \n",
    "Upper 8 is not accesible for these registers  "
   ]
  },
  {
   "cell_type": "markdown",
   "metadata": {},
   "source": [
    "### Syscall convention"
   ]
  },
  {
   "cell_type": "markdown",
   "metadata": {},
   "source": [
    "RAX = Syscall number  \n",
    "RDI = 1st arg  \n",
    "RSI = 2nd arg  \n",
    "RDX = 3rd arg  \n",
    "R10 = 4th arg  \n",
    "R8  = 5th arg  \n",
    "R9  = 6th arg\n",
    "\n",
    "RAX = Return value will be placed here"
   ]
  },
  {
   "cell_type": "markdown",
   "metadata": {},
   "source": [
    "Example for write syscall:  \n",
    "> ssize_t write(int fd, const void *buf, size_t count)   \n",
    "\n",
    "Arguments:\n",
    "- syscall number (1) => RAX\n",
    "- file descriptor (1 == stdout) => RDI\n",
    "- string pointer => RSI\n",
    "- length of string => RDX"
   ]
  },
  {
   "cell_type": "markdown",
   "metadata": {},
   "source": [
    "### Reduce instruction length\n",
    "\n",
    "The smaller the register, the shorter the instruction  \n",
    "Because the entire value must be hardcoded into the instruction for bigger registers  \n",
    "\n",
    "Examples 64bit vs 8bit register results in 9bytes vs 2bytes long instructions:  \n",
    "> rasm2 \"mov rax, 1\"  \n",
    "> 48c7c001000000\n",
    "\n",
    "> rasm2 \"mov al, 1\"  \n",
    "> b001\n"
   ]
  },
  {
   "cell_type": "markdown",
   "metadata": {},
   "source": [
    "### Shellcode should be env independant\n",
    "We need to cleanup every register to be used because we can't ensure it won't be filled with garbage  \n"
   ]
  },
  {
   "cell_type": "markdown",
   "metadata": {},
   "source": [
    "### NASM details  \n",
    "\n",
    "Defining data (defines a label which represents the address at which the data is):\n",
    "db = define byte  \n",
    "dw = define word  \n",
    "dd = define double  \n",
    "dq = define quad  \n",
    "`dataLabel db 0xAA, 0xBB, 0xCC`  \n",
    "\n",
    "Loading data address into register:   \n",
    "`mov rax, dataLabel`  \n",
    "\n",
    "Loading data value into register:  \n",
    "`mov rax, [dataLabel]`  \n",
    "\n",
    "Define uninitialized data:  \n",
    "This needs to be defined in the .bss section  \n",
    "`buffer: resb 64 ; reserve 64 bytes`  \n",
    "`wordvar: resw 1 ; reserve a word`  \n",
    "\n",
    "`$ = current line`  \n",
    "`$$ = beginning of the current section`  \n",
    "\n",
    "equ = equals  \n"
   ]
  },
  {
   "cell_type": "markdown",
   "metadata": {},
   "source": [
    "### GDB  \n",
    "\n",
    "https://beej.us/guide/bggdb/  \n",
    "\n",
    "enable TUI mode with option `-tui`  \n",
    "use gdb-dashboard? peda?  \n",
    "\n",
    "#### commands\n",
    "```\n",
    "disassembly-flavor intel   \n",
    "layout asm  \n",
    "layout regs  \n",
    "\n",
    "run  \n",
    "break <main/_start/etc>\n",
    "info variables  \n",
    "ni  \n",
    "x/1xb &variableName\n",
    "x/1xb 0x400174\n",
    "\n",
    "x/8xb  ; show as bytes\n",
    "x/16xb ; show as words\n",
    "x/32xb ; show as dwords\n",
    "x/64xb ; show as qwords\n",
    "\n",
    "x/s  ; show as a string\n",
    "```"
   ]
  },
  {
   "cell_type": "markdown",
   "metadata": {},
   "source": [
    "### String operations  \n",
    "\n",
    "##### Compare   \n",
    "###### - memory vs register  \n",
    "scas(b/w/d/q) : Compares string referenced by RDI agasint al/ax/eax/rax\n",
    "(scasb for byte, scasw for word & so on...)  \n",
    "example: \n",
    "```\n",
    "mov rax, [var1]\n",
    "lea rdi, [var2]\n",
    "scasq\n",
    "; check ZF here, if ZF == 1 then they are equal\n",
    "```\n",
    "###### - memory vs memory\n",
    "cmps(b/w/d/q) : Comprares string referenced by RSI vs referecenced by RDI  \n",
    "example:  \n",
    "```\n",
    "lea rdi, [var1]\n",
    "lea rsi, [var2]\n",
    "cmpsq\n",
    "; check ZF here, if ZF == 1 then they are equal\n",
    "```\n",
    "\n",
    "##### Load (Copy from memory addres loaded into RDI to RAX)\n",
    "lods(b/w/d/q)  \n",
    "\n",
    "##### Store (Copy from RAX register to memory location loaded on RDI)\n",
    "stos(b/w/d/q)  \n",
    "\n",
    "##### Move  (Copy from memory to memory)\n",
    "movs(b/w/d/q)  \n",
    "Takes the value in the __DIRECTION FLAG__:\n",
    "- DF == 0 => the addreses are incremented each round\n",
    "- DF == 1 => the addreses are decremented each round\n",
    "- Remember to clear the direction flag (**cld**) or set it if needed  \n",
    "Example:   \n",
    "```\n",
    "cld\n",
    "lea rsi, [var1]\n",
    "lea rdi, [var2]\n",
    "movsq ; copy from @var1 (direction incremental [DF == 0]) to @var2\n",
    "``` \n"
   ]
  },
  {
   "cell_type": "code",
   "execution_count": null,
   "metadata": {},
   "outputs": [],
   "source": []
  }
 ],
 "metadata": {
  "kernelspec": {
   "display_name": "Python 3",
   "language": "python",
   "name": "python3"
  },
  "language_info": {
   "codemirror_mode": {
    "name": "ipython",
    "version": 3
   },
   "file_extension": ".py",
   "mimetype": "text/x-python",
   "name": "python",
   "nbconvert_exporter": "python",
   "pygments_lexer": "ipython3",
   "version": "3.6.7"
  }
 },
 "nbformat": 4,
 "nbformat_minor": 2
}
